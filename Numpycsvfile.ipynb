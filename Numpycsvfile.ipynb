{
 "cells": [
  {
   "cell_type": "markdown",
   "id": "6bd80b1b-6b0b-413a-9405-768108677f5d",
   "metadata": {},
   "source": [
    "# Numpy Operations on CSV file"
   ]
  },
  {
   "cell_type": "code",
   "execution_count": 2,
   "id": "55735e61-dbf5-4e07-bdd0-e04843c0a15c",
   "metadata": {},
   "outputs": [
    {
     "name": "stdout",
     "output_type": "stream",
     "text": [
      "[['Name' 'Gender' 'DOB' 'Maths' 'Physics' 'Chemistry' 'English' 'Biology'\n",
      "  'Economics' 'History' 'Civics']\n",
      " ['John' 'M' '05-04-1988' '55' '45' '56' '87' '21' '52' '89' '65']\n",
      " ['Suresh' 'M' '04-05-1987' '75' '96' '78' '64' '90' '61' '58' '2']\n",
      " ['Ramesh' 'M' '25-05-1989' '25' '54' '89' '76' '95' '87' '56' '74']\n",
      " ['Jessica' 'F' '12-08-1990' '78' '96' '86' '63' '54' '89' '75' '45']]\n",
      "\n"
     ]
    }
   ],
   "source": [
    "import numpy as np\n",
    "\n",
    "# Load data from CSV file\n",
    "data= np.loadtxt(\"numpylab1.csv\", delimiter=\",\",dtype=str)\n",
    "print(data)\n",
    "print()"
   ]
  },
  {
   "cell_type": "code",
   "execution_count": 3,
   "id": "9dfbd461-ab89-4397-b664-35aabbe857ea",
   "metadata": {},
   "outputs": [
    {
     "name": "stdout",
     "output_type": "stream",
     "text": [
      "[[55. 45. 56. 87.]\n",
      " [75. 96. 78. 64.]\n",
      " [25. 54. 89. 76.]\n",
      " [78. 96. 86. 63.]]\n",
      "\n",
      "[[21. 52. 89. 65.]\n",
      " [90. 61. 58.  2.]\n",
      " [95. 87. 56. 74.]\n",
      " [54. 89. 75. 45.]]\n"
     ]
    }
   ],
   "source": [
    "# Creating Matrix\n",
    "matrix1=np.loadtxt(\"numpylab1.csv\", delimiter=\",\",skiprows=1,usecols=(3,4,5,6))\n",
    "print(matrix1)\n",
    "\n",
    "print()\n",
    "\n",
    "matrix2=np.loadtxt(\"numpylab1.csv\", delimiter=\",\",skiprows=1,usecols=(7,8,9,10))\n",
    "print(matrix2)"
   ]
  },
  {
   "cell_type": "code",
   "execution_count": 4,
   "id": "282cf3a6-da0b-4c52-8456-3cbe4fd17460",
   "metadata": {},
   "outputs": [
    {
     "name": "stdout",
     "output_type": "stream",
     "text": [
      "MAtrix addition is:\n",
      "[[ 76.  97. 145. 152.]\n",
      " [165. 157. 136.  66.]\n",
      " [120. 141. 145. 150.]\n",
      " [132. 185. 161. 108.]]\n",
      "\n",
      "MAtrix subtraction is:\n",
      "[[ 34.  -7. -33.  22.]\n",
      " [-15.  35.  20.  62.]\n",
      " [-70. -33.  33.   2.]\n",
      " [ 24.   7.  11.  18.]]\n",
      "\n",
      "MAtrix elementwise multiplication is:\n",
      "[[1155. 2340. 4984. 5655.]\n",
      " [6750. 5856. 4524.  128.]\n",
      " [2375. 4698. 4984. 5624.]\n",
      " [4212. 8544. 6450. 2835.]]\n",
      "\n",
      "MAtrix dot product multiplication is:\n",
      "[[15223. 18220. 17166. 11724.]\n",
      " [21081. 22238. 21411. 13719.]\n",
      " [17944. 19101. 16041. 11739.]\n",
      " [21850. 23001. 22051. 14461.]]\n",
      "\n"
     ]
    }
   ],
   "source": [
    "# Matrix addition\n",
    "result_addition=np.add(matrix1,matrix2)\n",
    "print(\"MAtrix addition is:\")\n",
    "print(result_addition)\n",
    "\n",
    "print()\n",
    "\n",
    "# Matrix subtraction\n",
    "result_subtraction=np.subtract(matrix1,matrix2)\n",
    "print(\"MAtrix subtraction is:\")\n",
    "print(result_subtraction)\n",
    "\n",
    "print()\n",
    "\n",
    "# Matrix multiplication Elementwise\n",
    "result_multiplication=np.multiply(matrix1,matrix2)\n",
    "print(\"MAtrix elementwise multiplication is:\")\n",
    "print(result_multiplication)\n",
    "\n",
    "print()\n",
    "\n",
    "# Matrix multiplication dot product\n",
    "result_multiplication=np.matmul(matrix1,matrix2)\n",
    "print(\"MAtrix dot product multiplication is:\")\n",
    "print(result_multiplication)\n",
    "\n",
    "print()\n",
    " "
   ]
  },
  {
   "cell_type": "code",
   "execution_count": 5,
   "id": "4e71a5cf-4806-4626-a943-a8d328725e92",
   "metadata": {},
   "outputs": [
    {
     "name": "stdout",
     "output_type": "stream",
     "text": [
      "horizontal_stack is: \n",
      "[[55. 45. 56. 87. 21. 52. 89. 65.]\n",
      " [75. 96. 78. 64. 90. 61. 58.  2.]\n",
      " [25. 54. 89. 76. 95. 87. 56. 74.]\n",
      " [78. 96. 86. 63. 54. 89. 75. 45.]]\n",
      "\n",
      "vertical_stack is :\n",
      "[[55. 45. 56. 87.]\n",
      " [75. 96. 78. 64.]\n",
      " [25. 54. 89. 76.]\n",
      " [78. 96. 86. 63.]\n",
      " [21. 52. 89. 65.]\n",
      " [90. 61. 58.  2.]\n",
      " [95. 87. 56. 74.]\n",
      " [54. 89. 75. 45.]]\n"
     ]
    }
   ],
   "source": [
    "# Horizontal stacking\n",
    "horizontal_stack=np.hstack((matrix1,matrix2))\n",
    "\n",
    "# Vertical stacking\n",
    "vertical_stack=np.vstack((matrix1,matrix2))\n",
    "\n",
    "print(\"horizontal_stack is: \")\n",
    "print(horizontal_stack)\n",
    "print()\n",
    "print(\"vertical_stack is :\")\n",
    "print(vertical_stack)"
   ]
  },
  {
   "cell_type": "code",
   "execution_count": 6,
   "id": "4df38305-e598-4b12-b1d8-be4f73add1ac",
   "metadata": {},
   "outputs": [
    {
     "name": "stdout",
     "output_type": "stream",
     "text": [
      "Custom sequence:\n",
      "[0 1 2 3 4 5 6 7 8 9]\n",
      "\n",
      "Mean: 70.1875\n",
      "Standard deviation: 19.135107623162195\n",
      "Sum: 1123.0\n",
      "Min value: 25.0\n",
      "Max value: 96.0\n"
     ]
    }
   ],
   "source": [
    "# Generating a sequence from 0 to 9\n",
    "sequence=np.arange(10)\n",
    "print(\"Custom sequence:\")\n",
    "print(sequence)\n",
    "print()\n",
    "\n",
    "# Arithmatic Opeartions\n",
    "\n",
    "mean=np.mean(matrix1)\n",
    "std_deviation=np.std(matrix1)\n",
    "\n",
    "# Statistical Operations\n",
    "sum=np.sum(matrix1)\n",
    "min_value=np.min(matrix1)\n",
    "max_value=np.max(matrix1)\n",
    "\n",
    "print(\"Mean:\",mean)\n",
    "print(\"Standard deviation:\",std_deviation)\n",
    "print(\"Sum:\",sum)\n",
    "print(\"Min value:\",min_value)\n",
    "print(\"Max value:\",max_value)\n"
   ]
  },
  {
   "cell_type": "code",
   "execution_count": 7,
   "id": "2ea89e74-b69a-4617-be59-956201094a34",
   "metadata": {},
   "outputs": [
    {
     "name": "stdout",
     "output_type": "stream",
     "text": [
      "Exponential Functions:\n",
      "[[7.69478527e+23 3.49342711e+19 2.09165950e+24 6.07603023e+37]\n",
      " [3.73324200e+32 4.92345829e+41 7.49841700e+33 6.23514908e+27]\n",
      " [7.20048993e+10 2.83075330e+23 4.48961282e+38 1.01480039e+33]\n",
      " [7.49841700e+33 4.92345829e+41 2.23524660e+37 2.29378316e+27]]\n",
      "\n",
      "Logarithmic Functions:\n",
      "[[4.00733319 3.80666249 4.02535169 4.46590812]\n",
      " [4.31748811 4.56434819 4.35670883 4.15888308]\n",
      " [3.21887582 3.98898405 4.48863637 4.33073334]\n",
      " [4.35670883 4.56434819 4.4543473  4.14313473]]\n",
      "\n",
      "Trignometric Functions:\n",
      "Sin value matrix is:  [[-0.99975517  0.85090352 -0.521551   -0.82181784]\n",
      " [-0.38778164  0.98358775  0.51397846  0.92002604]\n",
      " [-0.13235175 -0.55878905  0.86006941  0.56610764]\n",
      " [ 0.51397846  0.98358775 -0.92345845  0.1673557 ]]\n",
      "\n",
      "Cos value matrix is:  [[ 0.02212676  0.52532199  0.85322011  0.56975033]\n",
      " [ 0.92175127 -0.18043045 -0.85780309  0.39185723]\n",
      " [ 0.99120281 -0.82930983  0.51017704  0.82433133]\n",
      " [-0.85780309 -0.18043045 -0.38369844  0.98589658]]\n"
     ]
    }
   ],
   "source": [
    "# Exponential Functions\n",
    "result_exp=np.exp(matrix1)\n",
    "\n",
    "#Logarithmic FUnctions\n",
    "result_log=np.log(matrix1)\n",
    "\n",
    "# Trignometric Functions\n",
    "result_sin=np.sin(matrix1)\n",
    "result_cos=np.cos(matrix1)\n",
    "\n",
    "print(\"Exponential Functions:\")\n",
    "print(result_exp)\n",
    "print()\n",
    "\n",
    "print(\"Logarithmic Functions:\")\n",
    "print(result_log)\n",
    "print()\n",
    "\n",
    "print(\"Trignometric Functions:\")\n",
    "print(\"Sin value matrix is: \",result_sin)\n",
    "\n",
    "print()\n",
    "\n",
    "print(\"Cos value matrix is: \",result_cos)\n"
   ]
  },
  {
   "cell_type": "code",
   "execution_count": 11,
   "id": "7c495888-77ea-467f-91f7-2ee965bf3d56",
   "metadata": {
    "scrolled": true
   },
   "outputs": [
    {
     "name": "stdout",
     "output_type": "stream",
     "text": [
      "Dataset is: \n",
      "[['Name' 'Gender' 'DOB' 'Maths' 'Physics' 'Chemistry' 'English' 'Biology'\n",
      "  'Economics' 'History' 'Civics']\n",
      " ['John' 'M' '05-04-1988' '55' '45' '56' '87' '21' '52' '89' '65']\n",
      " ['Suresh' 'M' '04-05-1987' '75' '96' '78' '64' '90' '61' '58' '2']\n",
      " ['Ramesh' 'M' '25-05-1989' '25' '54' '89' '76' '95' '87' '56' '74']\n",
      " ['Jessica' 'F' '12-08-1990' '78' '96' '86' '63' '54' '89' '75' '45']]\n"
     ]
    }
   ],
   "source": [
    "# Copying array\n",
    "\n",
    "dataset_copy=np.copy(data)\n",
    "print(\"Dataset is: \")\n",
    "print(dataset_copy)\n"
   ]
  },
  {
   "cell_type": "code",
   "execution_count": 13,
   "id": "9a55eff9-f762-4a25-bc15-bdcfc202a278",
   "metadata": {},
   "outputs": [
    {
     "data": {
      "text/plain": [
       "array([['work_year', 'job_title', 'job_category', ..., 'work_setting',\n",
       "        'company_location', 'company_size'],\n",
       "       ['2023', 'Data DevOps Engineer', 'Data Engineering', ...,\n",
       "        'Hybrid', 'Germany', 'L'],\n",
       "       ['2023', 'Data Architect', 'Data Architecture and Modeling', ...,\n",
       "        'In-person', 'United States', 'M'],\n",
       "       ...,\n",
       "       ['2021', 'Principal Data Scientist', 'Data Science and Research',\n",
       "        ..., 'Remote', 'United States', 'L'],\n",
       "       ['2020', 'Data Scientist', 'Data Science and Research', ...,\n",
       "        'Remote', 'United States', 'S'],\n",
       "       ['2020', 'Business Data Analyst', 'Data Analysis', ..., 'Remote',\n",
       "        'United States', 'L']], dtype='<U40')"
      ]
     },
     "execution_count": 13,
     "metadata": {},
     "output_type": "execute_result"
    }
   ],
   "source": []
  },
  {
   "cell_type": "code",
   "execution_count": null,
   "id": "5431912f-1442-4966-bb68-0ea1d70f631a",
   "metadata": {},
   "outputs": [],
   "source": []
  }
 ],
 "metadata": {
  "kernelspec": {
   "display_name": "Python 3 (ipykernel)",
   "language": "python",
   "name": "python3"
  },
  "language_info": {
   "codemirror_mode": {
    "name": "ipython",
    "version": 3
   },
   "file_extension": ".py",
   "mimetype": "text/x-python",
   "name": "python",
   "nbconvert_exporter": "python",
   "pygments_lexer": "ipython3",
   "version": "3.12.2"
  }
 },
 "nbformat": 4,
 "nbformat_minor": 5
}
